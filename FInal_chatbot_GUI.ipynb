{
 "cells": [
  {
   "cell_type": "code",
   "execution_count": 1,
   "metadata": {
    "ExecuteTime": {
     "end_time": "2021-10-09T12:18:33.296679Z",
     "start_time": "2021-10-09T12:18:33.284677Z"
    },
    "id": "td7P2ZimSGw_"
   },
   "outputs": [],
   "source": [
    "###### important Libraries  ######\n",
    "import numpy as np \n",
    "import string\n",
    "from nltk.corpus import stopwords\n",
    "import pandas as pd \n",
    "from nltk.tokenize import word_tokenize\n",
    "from nltk.corpus import stopwords, wordnet\n",
    "from nltk.stem import WordNetLemmatizer\n",
    "from Levenshtein import ratio\n",
    "from nltk.stem import PorterStemmer\n",
    "pd.set_option('display.max_colwidth', None)\n",
    "from textblob import Word\n",
    "import random\n",
    "import re\n",
    "from tkinter import *\n",
    "\n",
    "import warnings\n",
    "warnings.filterwarnings('ignore')"
   ]
  },
  {
   "cell_type": "code",
   "execution_count": 2,
   "metadata": {
    "ExecuteTime": {
     "end_time": "2021-10-09T12:18:34.173399Z",
     "start_time": "2021-10-09T12:18:34.153398Z"
    },
    "id": "ocHuwW02SGxR"
   },
   "outputs": [],
   "source": [
    "import nltk"
   ]
  },
  {
   "cell_type": "code",
   "execution_count": 5,
   "metadata": {
    "ExecuteTime": {
     "end_time": "2021-10-09T12:41:30.433113Z",
     "start_time": "2021-10-09T12:41:17.258329Z"
    },
    "id": "xYY7j8e2SGxU",
    "outputId": "df700fa6-4039-4075-b813-29bf83568ac3"
   },
   "outputs": [
    {
     "name": "stdout",
     "output_type": "stream",
     "text": [
      "what is linear regression algorithm ?\n",
      "what is data science ?\n"
     ]
    }
   ],
   "source": [
    "from tkinter import *\n",
    "\n",
    "BG_GRAY = \"#ABB2B9\"\n",
    "BG_COLOR = \"#17202A\"\n",
    "TEXT_COLOR = \"#EAECEE\"\n",
    "\n",
    "FONT = \"Helvetica 14\"\n",
    "FONT_BOLD = \"Helvetica 13 bold\"\n",
    "\n",
    "class ChatApplication:\n",
    "    \n",
    "    def __init__(self):\n",
    "        self.window = Tk()\n",
    "        self._setup_main_window()\n",
    "        \n",
    "    def run(self):\n",
    "        self.window.mainloop()\n",
    "        \n",
    "    def _setup_main_window(self):\n",
    "        self.window.title(\"Chat\")\n",
    "        self.window.resizable(width=False, height=False)\n",
    "        self.window.configure(width=550, height=650, bg=BG_COLOR)\n",
    "        \n",
    "        # head label\n",
    "        head_label = Label(self.window, bg=BG_COLOR, fg=TEXT_COLOR,\n",
    "                           text=\"Welcome\", font=FONT_BOLD, pady=10)\n",
    "        head_label.place(relwidth=1)\n",
    "        \n",
    "        # tiny divider\n",
    "        line = Label(self.window, width=450, bg=BG_GRAY)\n",
    "        line.place(relwidth=1, rely=0.07, relheight=0.012)\n",
    "        \n",
    "        # text widget\n",
    "        self.text_widget = Text(self.window, width=20, height=2, bg=BG_COLOR, fg=TEXT_COLOR,\n",
    "                                font=FONT, padx=5, pady=5)\n",
    "        self.text_widget.place(relheight=0.745, relwidth=1, rely=0.08)\n",
    "        self.text_widget.configure(cursor=\"arrow\", state=DISABLED)\n",
    "        \n",
    "        # scroll bar\n",
    "        scrollbar = Scrollbar(self.text_widget)\n",
    "        scrollbar.place(relheight=1, relx=0.974)\n",
    "        scrollbar.configure(command=self.text_widget.yview)\n",
    "        \n",
    "        # bottom label\n",
    "        bottom_label = Label(self.window, bg=BG_GRAY, height=80)\n",
    "        bottom_label.place(relwidth=1, rely=0.825)\n",
    "        \n",
    "        # message entry box\n",
    "        self.msg_entry = Entry(bottom_label, bg=\"#2C3E50\", fg=TEXT_COLOR, font=FONT)\n",
    "        self.msg_entry.place(relwidth=0.74, relheight=0.06, rely=0.008, relx=0.011)\n",
    "        self.msg_entry.focus()\n",
    "        self.msg_entry.bind(\"<Return>\", self._on_enter_pressed)\n",
    "        \n",
    "        # send button\n",
    "        send_button = Button(bottom_label, text=\"Send\", font=FONT_BOLD, width=20, bg=BG_GRAY,\n",
    "                             command=lambda: self._on_enter_pressed(None))\n",
    "        send_button.place(relx=0.77, rely=0.008, relheight=0.06, relwidth=0.22)\n",
    "     \n",
    "    def _on_enter_pressed(self, event):\n",
    "        msg = self.msg_entry.get()\n",
    "        self._insert_message(msg, \"You\")\n",
    "    \n",
    "    greeting_inputs = (\"hey\",\"Hello\",\"hello\", \"Good Day\", \"hi\", \"whatsup\")\n",
    "    greeting_responses = [ \"Hi..\",\"Hello..\", \"hello\", \"Welcome\", \"Hey..\"]\n",
    "\n",
    "    def generate_greeting_response(self,greeting):\n",
    "        for token in greeting.split():\n",
    "            if token.lower() in self.greeting_inputs:\n",
    "                return random.choice(self.greeting_responses)\n",
    "    stop_words = stopwords.words('english')\n",
    "    new_words=('explain','following','given','describe','ie','find','using','suppose','define','meaning','image','name','required','interview','discus''detail','indepth','short','brief','number','12','many','give','help','used','one','two','could','Algorithm','algorithm','basic','difference','respect','model')\n",
    "    for i in new_words:\n",
    "        stop_words.append(i)\n",
    "            \n",
    "    def get_response(self,user_input):\n",
    "        print(user_input)\n",
    "        data = pd.read_csv(\"Clean_supervised_learning.csv\")\n",
    "        sarthi_response = ''\n",
    "\n",
    "        stop_words = stopwords.words('english')\n",
    "        new_words=('explain','following','given','describe','ie','find','using','suppose','define','meaning','image','name','required','interview','discus''detail','indepth','short','brief','number','12','many','give','help','used','one','two','could','Algorithm','algorithm','basic','difference','respect','model')\n",
    "        for i in new_words:\n",
    "            stop_words.append(i)\n",
    "\n",
    "        \n",
    "        user_input=str(user_input)\n",
    "        #user_input = user_input.replace('[^\\w\\s]','')\n",
    "        user_input =re.sub(r'[^\\w\\s]', ' ', user_input)\n",
    "        user_input = user_input.replace('-',' ')\n",
    "        user_input = re.sub('[\\?\\.\\/]',' ',user_input)\n",
    "        user_input = user_input.split()\n",
    "        user_input = (lambda user_input: [word.lower() for word in user_input])(user_input)\n",
    "        user_input = (lambda user_input: [word for word in user_input if word not in stop_words])(user_input)\n",
    "        stemmer=PorterStemmer()\n",
    "        user_input = (lambda user_input:sorted([stemmer.stem(word) for word in user_input]))(user_input)\n",
    "        wordnet_lemmatizer = WordNetLemmatizer()\n",
    "        user_input = (lambda user_input:\" \".join(sorted([wordnet_lemmatizer.lemmatize(word) for word in user_input])))(user_input)\n",
    "        #print(user_input)\n",
    "\n",
    "        mel_count=data[\"question_clean\"].str.contains(user_input).sum()\n",
    "        if mel_count==0:\n",
    "            sarthi_response = sarthi_response + \"I am sorry, I could not understand you.\"\n",
    "            return sarthi_response\n",
    "        else:\n",
    "            for idx, row in data.iterrows():\n",
    "                score = ratio(row[\"question_clean\"], user_input)\n",
    "                if score >= 0.90: # I'm sure, stop here\n",
    "                    return row[\"Answer\"]\n",
    "            else:\n",
    "                f_ans=sarthi_response + \"So sorry, I am designed to discuss on General and supervised machine learning only.\"\n",
    "\n",
    "            sarthi_response=f_ans\n",
    "            return sarthi_response\n",
    "    \n",
    "    \n",
    "    \n",
    "        \n",
    "    def _insert_message(self, msg, sender):\n",
    "        if not msg:\n",
    "            return\n",
    "        \n",
    "        bot_name = \"Sarthi\"\n",
    "        self.msg_entry.delete(0, END)\n",
    "        msg1 = f\"{sender}: {msg}\\n\\n\"\n",
    "        self.text_widget.configure(state=NORMAL)\n",
    "        self.text_widget.insert(END, msg1)\n",
    "        self.text_widget.configure(state=DISABLED)\n",
    "        \n",
    "        msg = msg.lower()\n",
    "        if msg != 'bye':\n",
    "            if msg == 'thanks' or msg == 'thank you very much' or msg == 'thank you':\n",
    "                mw=\"Most welcome\"\n",
    "                msg2=f\"{bot_name}: {mw}\\n\\n\"\n",
    "            else:\n",
    "                if self.generate_greeting_response(msg) != None:\n",
    "                    msg2= f\"{bot_name}: {self.generate_greeting_response(msg)}\\n\\n\"\n",
    "                else:\n",
    "\n",
    "                    msg2 = f\"{bot_name}: {self.get_response(msg)}\\n\\n\"\n",
    "\n",
    "        else:\n",
    "            bye=\"Good bye and take care of yourself...\"\n",
    "            msg2= f\"{bot_name}: {bye}\\n\\n\"\n",
    "        self.text_widget.configure(state=NORMAL)\n",
    "        self.text_widget.insert(END, msg2)\n",
    "        self.text_widget.configure(state=DISABLED)\n",
    "\n",
    "        self.text_widget.see(END)\n",
    "        \n",
    "if __name__ == \"__main__\":\n",
    "    app = ChatApplication()\n",
    "    app.run()\n",
    "    "
   ]
  },
  {
   "cell_type": "code",
   "execution_count": null,
   "metadata": {
    "id": "tGGhjZ_2SGxp"
   },
   "outputs": [],
   "source": []
  }
 ],
 "metadata": {
  "colab": {
   "name": "FInal_chatbot_GUI.ipynb",
   "provenance": []
  },
  "kernelspec": {
   "display_name": "Python 3",
   "language": "python",
   "name": "python3"
  },
  "language_info": {
   "codemirror_mode": {
    "name": "ipython",
    "version": 3
   },
   "file_extension": ".py",
   "mimetype": "text/x-python",
   "name": "python",
   "nbconvert_exporter": "python",
   "pygments_lexer": "ipython3",
   "version": "3.8.5"
  },
  "toc": {
   "base_numbering": 1,
   "nav_menu": {},
   "number_sections": true,
   "sideBar": true,
   "skip_h1_title": false,
   "title_cell": "Table of Contents",
   "title_sidebar": "Contents",
   "toc_cell": false,
   "toc_position": {},
   "toc_section_display": true,
   "toc_window_display": false
  },
  "varInspector": {
   "cols": {
    "lenName": 16,
    "lenType": 16,
    "lenVar": 40
   },
   "kernels_config": {
    "python": {
     "delete_cmd_postfix": "",
     "delete_cmd_prefix": "del ",
     "library": "var_list.py",
     "varRefreshCmd": "print(var_dic_list())"
    },
    "r": {
     "delete_cmd_postfix": ") ",
     "delete_cmd_prefix": "rm(",
     "library": "var_list.r",
     "varRefreshCmd": "cat(var_dic_list()) "
    }
   },
   "types_to_exclude": [
    "module",
    "function",
    "builtin_function_or_method",
    "instance",
    "_Feature"
   ],
   "window_display": false
  }
 },
 "nbformat": 4,
 "nbformat_minor": 1
}
